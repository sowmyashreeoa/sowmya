{
  "cells": [
    {
      "cell_type": "markdown",
      "id": "c7357946",
      "metadata": {
        "id": "c7357946"
      },
      "source": [
        "## AI & ML VTU 7th Sem Lab Programs"
      ]
    },
    {
      "cell_type": "markdown",
      "id": "8751241a",
      "metadata": {
        "id": "8751241a"
      },
      "source": [
        "### Implement A* Search Algorithm\n",
        "<p> A* Search Algorithm is a Path Finding Algorithm.\n",
        "    It is similar to Breadth First Search(BFS).\n",
        "    It will search shortest path using heuristic value assigned to node and actual cost from Source_node to Dest_node </p>\n"
      ]
    },
    {
      "cell_type": "markdown",
      "id": "6058080d",
      "metadata": {
        "id": "6058080d"
      },
      "source": [
        "#### Real-life Examples\n",
        "<ul>\n",
        "    <li>Maps</li>\n",
        "    <li>Games</li>\n",
        "</ul>"
      ]
    },
    {
      "cell_type": "code",
      "source": [],
      "metadata": {
        "id": "Tp_Qfdid4uIz"
      },
      "id": "Tp_Qfdid4uIz",
      "execution_count": null,
      "outputs": []
    },
    {
      "cell_type": "markdown",
      "id": "58b0b262",
      "metadata": {
        "id": "58b0b262"
      },
      "source": [
        "#### Formula for A* Algorithm\n",
        "```python\n",
        "h(n) = heuristic_value\n",
        "g(n) = actual_cost\n",
        "f(n) = actual_cost + heursitic_value\n",
        "```\n",
        "```python\n",
        "f(n) = g(n) + h(n)\n",
        "```"
      ]
    },
    {
      "cell_type": "code",
      "execution_count": 3,
      "id": "1127a913",
      "metadata": {
        "colab": {
          "base_uri": "https://localhost:8080/"
        },
        "id": "1127a913",
        "outputId": "2dd91b31-7448-453b-ff61-cc3a2c585408"
      },
      "outputs": [
        {
          "output_type": "stream",
          "name": "stdout",
          "text": [
            "Path found: ['A', 'E', 'D', 'G']\n"
          ]
        },
        {
          "output_type": "execute_result",
          "data": {
            "text/plain": [
              "['A', 'E', 'D', 'G']"
            ]
          },
          "metadata": {},
          "execution_count": 3
        }
      ],
      "source": [
        "def aStarAlgo(start_node, stop_node):\n",
        "    \n",
        "\n",
        "    open_set = set(start_node) # {A}, len{open_set}=1\n",
        "    closed_set = set()\n",
        "    g = {} # store the distance from starting node\n",
        "    parents = {}\n",
        "    g[start_node] = 0\n",
        "    parents[start_node] = start_node # parents['A']='A\"\n",
        "\n",
        "    while len(open_set) > 0 :\n",
        "        n = None\n",
        "\n",
        "        for v in open_set: # v='B'/'E'\n",
        "            if n == None or g[v] + heuristic(v) < g[n] + heuristic(n):\n",
        "                n = v # n='A'\n",
        "\n",
        "        if n == stop_node or Graph_nodes[n] == None:\n",
        "            pass\n",
        "        else:\n",
        "            for (m, weight) in get_neighbors(n):\n",
        "             # nodes 'm' not in first and last set are added to first\n",
        "             # n is set its parent\n",
        "                if m not in open_set and m not in closed_set:\n",
        "                    open_set.add(m)      # m=B weight=6 {'F','B','A'} len{open_set}=2\n",
        "                    parents[m] = n       # parents={'A':A,'B':A} len{parent}=2\n",
        "                    g[m] = g[n] + weight # g={'A':0,'B':2, 'E':3} len{g}=2\n",
        "\n",
        "\n",
        "            #for each node m,compare its distance from start i.e g(m) to the\n",
        "            #from start through n node\n",
        "                else:\n",
        "                    if g[m] > g[n] + weight:\n",
        "                    #update g(m)\n",
        "                        g[m] = g[n] + weight\n",
        "                    #change parent of m to n\n",
        "                        parents[m] = n\n",
        "\n",
        "                    #if m in closed set,remove and add to open\n",
        "                        if m in closed_set:\n",
        "                            closed_set.remove(m)\n",
        "                            open_set.add(m)\n",
        "\n",
        "        if n == None:\n",
        "            print('Path does not exist!')\n",
        "            return None\n",
        "\n",
        "        # if the current node is the stop_node\n",
        "        # then we begin reconstructin the path from it to the start_node\n",
        "        if n == stop_node:\n",
        "            path = []\n",
        "\n",
        "            while parents[n] != n:\n",
        "                path.append(n)\n",
        "                n = parents[n]\n",
        "\n",
        "            path.append(start_node)\n",
        "\n",
        "            path.reverse()\n",
        "\n",
        "            print('Path found: {}'.format(path))\n",
        "            return path\n",
        "\n",
        "\n",
        "        # remove n from the open_list, and add it to closed_list\n",
        "        # because all of his neighbors were inspected\n",
        "        open_set.remove(n)# {'F','B'} len=2\n",
        "        closed_set.add(n) #{A} len=1\n",
        "\n",
        "    print('Path does not exist!')\n",
        "    return None\n",
        "\n",
        "#define fuction to return neighbor and its distance\n",
        "#from the passed node\n",
        "def get_neighbors(v):\n",
        "    if v in Graph_nodes:\n",
        "        return Graph_nodes[v]\n",
        "    else:\n",
        "        return None\n",
        "#for simplicity we ll consider heuristic distances given\n",
        "#and this function returns heuristic distance for all nodes\n",
        " \n",
        "def heuristic(n):\n",
        "    H_dist = { \n",
        "        'A': 11,\n",
        "        'B': 6,\n",
        "        'C': 99,\n",
        "        'D': 1,\n",
        "        'E': 7,\n",
        "        'G': 0,\n",
        "\n",
        "    }\n",
        "\n",
        "    return H_dist[n]\n",
        "\n",
        "#Describe your graph here\n",
        "Graph_nodes = {\n",
        "    'A': [('B', 2), ('E', 3)],\n",
        "    'B': [('C', 1),('G', 9)],\n",
        "    'C': None, 'E': [('D', 6)],\n",
        "    'D': [('G', 1)],\n",
        "\n",
        "}\n",
        "aStarAlgo('A', 'G')"
      ]
    },
    {
      "cell_type": "code",
      "execution_count": null,
      "id": "0185cd44",
      "metadata": {
        "id": "0185cd44"
      },
      "outputs": [],
      "source": []
    }
  ],
  "metadata": {
    "kernelspec": {
      "display_name": "Python 3 (ipykernel)",
      "language": "python",
      "name": "python3"
    },
    "language_info": {
      "codemirror_mode": {
        "name": "ipython",
        "version": 3
      },
      "file_extension": ".py",
      "mimetype": "text/x-python",
      "name": "python",
      "nbconvert_exporter": "python",
      "pygments_lexer": "ipython3",
      "version": "3.10.0"
    },
    "colab": {
      "provenance": []
    }
  },
  "nbformat": 4,
  "nbformat_minor": 5
}