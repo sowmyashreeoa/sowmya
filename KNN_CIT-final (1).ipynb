{
  "cells": [
    {
      "cell_type": "code",
      "execution_count": null,
      "metadata": {
        "id": "dAKqEWnl_DRh",
        "outputId": "c19278e8-a240-4b98-9239-09ed5a429359"
      },
      "outputs": [
        {
          "name": "stdout",
          "output_type": "stream",
          "text": [
            "\n",
            " IRIS FEATURES \\ TARGET NAMES: \n",
            "  ['setosa' 'versicolor' 'virginica']\n",
            "\n",
            "[0]:[setosa]\n",
            "\n",
            "[1]:[versicolor]\n",
            "\n",
            "[2]:[virginica]\n"
          ]
        }
      ],
      "source": [
        "# Python program to demonstrate \n",
        "# KNN classification algorithm \n",
        "# on IRIS dataset \n",
        "from sklearn.datasets import load_iris \n",
        "from sklearn.neighbors import KNeighborsClassifier \n",
        "import numpy as np \n",
        "from sklearn.model_selection import train_test_split \n",
        "iris_dataset=load_iris() \n",
        "print(\"\\n IRIS FEATURES \\ TARGET NAMES: \\n \", iris_dataset.target_names) \n",
        "for i in range(len(iris_dataset.target_names)): \n",
        "    print(\"\\n[{0}]:[{1}]\".format(i,iris_dataset.target_names[i]))"
      ]
    },
    {
      "cell_type": "code",
      "execution_count": null,
      "metadata": {
        "id": "8sKd8Yds_DRs",
        "outputId": "27f44798-0bc2-4fee-e3a6-34a53467f31b"
      },
      "outputs": [
        {
          "name": "stdout",
          "output_type": "stream",
          "text": [
            "\n",
            " IRIS DATA :\n",
            " [[ 5.1  3.5  1.4  0.2]\n",
            " [ 4.9  3.   1.4  0.2]\n",
            " [ 4.7  3.2  1.3  0.2]\n",
            " [ 4.6  3.1  1.5  0.2]\n",
            " [ 5.   3.6  1.4  0.2]\n",
            " [ 5.4  3.9  1.7  0.4]\n",
            " [ 4.6  3.4  1.4  0.3]\n",
            " [ 5.   3.4  1.5  0.2]\n",
            " [ 4.4  2.9  1.4  0.2]\n",
            " [ 4.9  3.1  1.5  0.1]\n",
            " [ 5.4  3.7  1.5  0.2]\n",
            " [ 4.8  3.4  1.6  0.2]\n",
            " [ 4.8  3.   1.4  0.1]\n",
            " [ 4.3  3.   1.1  0.1]\n",
            " [ 5.8  4.   1.2  0.2]\n",
            " [ 5.7  4.4  1.5  0.4]\n",
            " [ 5.4  3.9  1.3  0.4]\n",
            " [ 5.1  3.5  1.4  0.3]\n",
            " [ 5.7  3.8  1.7  0.3]\n",
            " [ 5.1  3.8  1.5  0.3]\n",
            " [ 5.4  3.4  1.7  0.2]\n",
            " [ 5.1  3.7  1.5  0.4]\n",
            " [ 4.6  3.6  1.   0.2]\n",
            " [ 5.1  3.3  1.7  0.5]\n",
            " [ 4.8  3.4  1.9  0.2]\n",
            " [ 5.   3.   1.6  0.2]\n",
            " [ 5.   3.4  1.6  0.4]\n",
            " [ 5.2  3.5  1.5  0.2]\n",
            " [ 5.2  3.4  1.4  0.2]\n",
            " [ 4.7  3.2  1.6  0.2]\n",
            " [ 4.8  3.1  1.6  0.2]\n",
            " [ 5.4  3.4  1.5  0.4]\n",
            " [ 5.2  4.1  1.5  0.1]\n",
            " [ 5.5  4.2  1.4  0.2]\n",
            " [ 4.9  3.1  1.5  0.1]\n",
            " [ 5.   3.2  1.2  0.2]\n",
            " [ 5.5  3.5  1.3  0.2]\n",
            " [ 4.9  3.1  1.5  0.1]\n",
            " [ 4.4  3.   1.3  0.2]\n",
            " [ 5.1  3.4  1.5  0.2]\n",
            " [ 5.   3.5  1.3  0.3]\n",
            " [ 4.5  2.3  1.3  0.3]\n",
            " [ 4.4  3.2  1.3  0.2]\n",
            " [ 5.   3.5  1.6  0.6]\n",
            " [ 5.1  3.8  1.9  0.4]\n",
            " [ 4.8  3.   1.4  0.3]\n",
            " [ 5.1  3.8  1.6  0.2]\n",
            " [ 4.6  3.2  1.4  0.2]\n",
            " [ 5.3  3.7  1.5  0.2]\n",
            " [ 5.   3.3  1.4  0.2]\n",
            " [ 7.   3.2  4.7  1.4]\n",
            " [ 6.4  3.2  4.5  1.5]\n",
            " [ 6.9  3.1  4.9  1.5]\n",
            " [ 5.5  2.3  4.   1.3]\n",
            " [ 6.5  2.8  4.6  1.5]\n",
            " [ 5.7  2.8  4.5  1.3]\n",
            " [ 6.3  3.3  4.7  1.6]\n",
            " [ 4.9  2.4  3.3  1. ]\n",
            " [ 6.6  2.9  4.6  1.3]\n",
            " [ 5.2  2.7  3.9  1.4]\n",
            " [ 5.   2.   3.5  1. ]\n",
            " [ 5.9  3.   4.2  1.5]\n",
            " [ 6.   2.2  4.   1. ]\n",
            " [ 6.1  2.9  4.7  1.4]\n",
            " [ 5.6  2.9  3.6  1.3]\n",
            " [ 6.7  3.1  4.4  1.4]\n",
            " [ 5.6  3.   4.5  1.5]\n",
            " [ 5.8  2.7  4.1  1. ]\n",
            " [ 6.2  2.2  4.5  1.5]\n",
            " [ 5.6  2.5  3.9  1.1]\n",
            " [ 5.9  3.2  4.8  1.8]\n",
            " [ 6.1  2.8  4.   1.3]\n",
            " [ 6.3  2.5  4.9  1.5]\n",
            " [ 6.1  2.8  4.7  1.2]\n",
            " [ 6.4  2.9  4.3  1.3]\n",
            " [ 6.6  3.   4.4  1.4]\n",
            " [ 6.8  2.8  4.8  1.4]\n",
            " [ 6.7  3.   5.   1.7]\n",
            " [ 6.   2.9  4.5  1.5]\n",
            " [ 5.7  2.6  3.5  1. ]\n",
            " [ 5.5  2.4  3.8  1.1]\n",
            " [ 5.5  2.4  3.7  1. ]\n",
            " [ 5.8  2.7  3.9  1.2]\n",
            " [ 6.   2.7  5.1  1.6]\n",
            " [ 5.4  3.   4.5  1.5]\n",
            " [ 6.   3.4  4.5  1.6]\n",
            " [ 6.7  3.1  4.7  1.5]\n",
            " [ 6.3  2.3  4.4  1.3]\n",
            " [ 5.6  3.   4.1  1.3]\n",
            " [ 5.5  2.5  4.   1.3]\n",
            " [ 5.5  2.6  4.4  1.2]\n",
            " [ 6.1  3.   4.6  1.4]\n",
            " [ 5.8  2.6  4.   1.2]\n",
            " [ 5.   2.3  3.3  1. ]\n",
            " [ 5.6  2.7  4.2  1.3]\n",
            " [ 5.7  3.   4.2  1.2]\n",
            " [ 5.7  2.9  4.2  1.3]\n",
            " [ 6.2  2.9  4.3  1.3]\n",
            " [ 5.1  2.5  3.   1.1]\n",
            " [ 5.7  2.8  4.1  1.3]\n",
            " [ 6.3  3.3  6.   2.5]\n",
            " [ 5.8  2.7  5.1  1.9]\n",
            " [ 7.1  3.   5.9  2.1]\n",
            " [ 6.3  2.9  5.6  1.8]\n",
            " [ 6.5  3.   5.8  2.2]\n",
            " [ 7.6  3.   6.6  2.1]\n",
            " [ 4.9  2.5  4.5  1.7]\n",
            " [ 7.3  2.9  6.3  1.8]\n",
            " [ 6.7  2.5  5.8  1.8]\n",
            " [ 7.2  3.6  6.1  2.5]\n",
            " [ 6.5  3.2  5.1  2. ]\n",
            " [ 6.4  2.7  5.3  1.9]\n",
            " [ 6.8  3.   5.5  2.1]\n",
            " [ 5.7  2.5  5.   2. ]\n",
            " [ 5.8  2.8  5.1  2.4]\n",
            " [ 6.4  3.2  5.3  2.3]\n",
            " [ 6.5  3.   5.5  1.8]\n",
            " [ 7.7  3.8  6.7  2.2]\n",
            " [ 7.7  2.6  6.9  2.3]\n",
            " [ 6.   2.2  5.   1.5]\n",
            " [ 6.9  3.2  5.7  2.3]\n",
            " [ 5.6  2.8  4.9  2. ]\n",
            " [ 7.7  2.8  6.7  2. ]\n",
            " [ 6.3  2.7  4.9  1.8]\n",
            " [ 6.7  3.3  5.7  2.1]\n",
            " [ 7.2  3.2  6.   1.8]\n",
            " [ 6.2  2.8  4.8  1.8]\n",
            " [ 6.1  3.   4.9  1.8]\n",
            " [ 6.4  2.8  5.6  2.1]\n",
            " [ 7.2  3.   5.8  1.6]\n",
            " [ 7.4  2.8  6.1  1.9]\n",
            " [ 7.9  3.8  6.4  2. ]\n",
            " [ 6.4  2.8  5.6  2.2]\n",
            " [ 6.3  2.8  5.1  1.5]\n",
            " [ 6.1  2.6  5.6  1.4]\n",
            " [ 7.7  3.   6.1  2.3]\n",
            " [ 6.3  3.4  5.6  2.4]\n",
            " [ 6.4  3.1  5.5  1.8]\n",
            " [ 6.   3.   4.8  1.8]\n",
            " [ 6.9  3.1  5.4  2.1]\n",
            " [ 6.7  3.1  5.6  2.4]\n",
            " [ 6.9  3.1  5.1  2.3]\n",
            " [ 5.8  2.7  5.1  1.9]\n",
            " [ 6.8  3.2  5.9  2.3]\n",
            " [ 6.7  3.3  5.7  2.5]\n",
            " [ 6.7  3.   5.2  2.3]\n",
            " [ 6.3  2.5  5.   1.9]\n",
            " [ 6.5  3.   5.2  2. ]\n",
            " [ 6.2  3.4  5.4  2.3]\n",
            " [ 5.9  3.   5.1  1.8]]\n"
          ]
        }
      ],
      "source": [
        "print(\"\\n IRIS DATA :\\n\",iris_dataset[\"data\"]) \n",
        "X_train, X_test, y_train, y_test = train_test_split(iris_dataset[\"data\"], iris_dataset[\"target\"], random_state=0) \n"
      ]
    },
    {
      "cell_type": "code",
      "execution_count": null,
      "metadata": {
        "id": "I9PYqDAK_DRu",
        "outputId": "060be916-4265-4ef6-da57-1ccb9469e02f"
      },
      "outputs": [
        {
          "name": "stdout",
          "output_type": "stream",
          "text": [
            "\n",
            " Target :\n",
            " [0 0 0 0 0 0 0 0 0 0 0 0 0 0 0 0 0 0 0 0 0 0 0 0 0 0 0 0 0 0 0 0 0 0 0 0 0\n",
            " 0 0 0 0 0 0 0 0 0 0 0 0 0 1 1 1 1 1 1 1 1 1 1 1 1 1 1 1 1 1 1 1 1 1 1 1 1\n",
            " 1 1 1 1 1 1 1 1 1 1 1 1 1 1 1 1 1 1 1 1 1 1 1 1 1 1 2 2 2 2 2 2 2 2 2 2 2\n",
            " 2 2 2 2 2 2 2 2 2 2 2 2 2 2 2 2 2 2 2 2 2 2 2 2 2 2 2 2 2 2 2 2 2 2 2 2 2\n",
            " 2 2]\n"
          ]
        }
      ],
      "source": [
        "print(\"\\n Target :\\n\",iris_dataset[\"target\"]) "
      ]
    },
    {
      "cell_type": "code",
      "execution_count": null,
      "metadata": {
        "id": "5-4c6hgB_DRw",
        "outputId": "34eab443-b558-462f-ba6f-8cef6d9f00d3"
      },
      "outputs": [
        {
          "name": "stdout",
          "output_type": "stream",
          "text": [
            "\n",
            " X TRAIN \n",
            " [[ 5.9  3.   4.2  1.5]\n",
            " [ 5.8  2.6  4.   1.2]\n",
            " [ 6.8  3.   5.5  2.1]\n",
            " [ 4.7  3.2  1.3  0.2]\n",
            " [ 6.9  3.1  5.1  2.3]\n",
            " [ 5.   3.5  1.6  0.6]\n",
            " [ 5.4  3.7  1.5  0.2]\n",
            " [ 5.   2.   3.5  1. ]\n",
            " [ 6.5  3.   5.5  1.8]\n",
            " [ 6.7  3.3  5.7  2.5]\n",
            " [ 6.   2.2  5.   1.5]\n",
            " [ 6.7  2.5  5.8  1.8]\n",
            " [ 5.6  2.5  3.9  1.1]\n",
            " [ 7.7  3.   6.1  2.3]\n",
            " [ 6.3  3.3  4.7  1.6]\n",
            " [ 5.5  2.4  3.8  1.1]\n",
            " [ 6.3  2.7  4.9  1.8]\n",
            " [ 6.3  2.8  5.1  1.5]\n",
            " [ 4.9  2.5  4.5  1.7]\n",
            " [ 6.3  2.5  5.   1.9]\n",
            " [ 7.   3.2  4.7  1.4]\n",
            " [ 6.5  3.   5.2  2. ]\n",
            " [ 6.   3.4  4.5  1.6]\n",
            " [ 4.8  3.1  1.6  0.2]\n",
            " [ 5.8  2.7  5.1  1.9]\n",
            " [ 5.6  2.7  4.2  1.3]\n",
            " [ 5.6  2.9  3.6  1.3]\n",
            " [ 5.5  2.5  4.   1.3]\n",
            " [ 6.1  3.   4.6  1.4]\n",
            " [ 7.2  3.2  6.   1.8]\n",
            " [ 5.3  3.7  1.5  0.2]\n",
            " [ 4.3  3.   1.1  0.1]\n",
            " [ 6.4  2.7  5.3  1.9]\n",
            " [ 5.7  3.   4.2  1.2]\n",
            " [ 5.4  3.4  1.7  0.2]\n",
            " [ 5.7  4.4  1.5  0.4]\n",
            " [ 6.9  3.1  4.9  1.5]\n",
            " [ 4.6  3.1  1.5  0.2]\n",
            " [ 5.9  3.   5.1  1.8]\n",
            " [ 5.1  2.5  3.   1.1]\n",
            " [ 4.6  3.4  1.4  0.3]\n",
            " [ 6.2  2.2  4.5  1.5]\n",
            " [ 7.2  3.6  6.1  2.5]\n",
            " [ 5.7  2.9  4.2  1.3]\n",
            " [ 4.8  3.   1.4  0.1]\n",
            " [ 7.1  3.   5.9  2.1]\n",
            " [ 6.9  3.2  5.7  2.3]\n",
            " [ 6.5  3.   5.8  2.2]\n",
            " [ 6.4  2.8  5.6  2.1]\n",
            " [ 5.1  3.8  1.6  0.2]\n",
            " [ 4.8  3.4  1.6  0.2]\n",
            " [ 6.5  3.2  5.1  2. ]\n",
            " [ 6.7  3.3  5.7  2.1]\n",
            " [ 4.5  2.3  1.3  0.3]\n",
            " [ 6.2  3.4  5.4  2.3]\n",
            " [ 4.9  3.   1.4  0.2]\n",
            " [ 5.7  2.5  5.   2. ]\n",
            " [ 6.9  3.1  5.4  2.1]\n",
            " [ 4.4  3.2  1.3  0.2]\n",
            " [ 5.   3.6  1.4  0.2]\n",
            " [ 7.2  3.   5.8  1.6]\n",
            " [ 5.1  3.5  1.4  0.3]\n",
            " [ 4.4  3.   1.3  0.2]\n",
            " [ 5.4  3.9  1.7  0.4]\n",
            " [ 5.5  2.3  4.   1.3]\n",
            " [ 6.8  3.2  5.9  2.3]\n",
            " [ 7.6  3.   6.6  2.1]\n",
            " [ 5.1  3.5  1.4  0.2]\n",
            " [ 4.9  3.1  1.5  0.1]\n",
            " [ 5.2  3.4  1.4  0.2]\n",
            " [ 5.7  2.8  4.5  1.3]\n",
            " [ 6.6  3.   4.4  1.4]\n",
            " [ 5.   3.2  1.2  0.2]\n",
            " [ 5.1  3.3  1.7  0.5]\n",
            " [ 6.4  2.9  4.3  1.3]\n",
            " [ 5.4  3.4  1.5  0.4]\n",
            " [ 7.7  2.6  6.9  2.3]\n",
            " [ 4.9  2.4  3.3  1. ]\n",
            " [ 7.9  3.8  6.4  2. ]\n",
            " [ 6.7  3.1  4.4  1.4]\n",
            " [ 5.2  4.1  1.5  0.1]\n",
            " [ 6.   3.   4.8  1.8]\n",
            " [ 5.8  4.   1.2  0.2]\n",
            " [ 7.7  2.8  6.7  2. ]\n",
            " [ 5.1  3.8  1.5  0.3]\n",
            " [ 4.7  3.2  1.6  0.2]\n",
            " [ 7.4  2.8  6.1  1.9]\n",
            " [ 5.   3.3  1.4  0.2]\n",
            " [ 6.3  3.4  5.6  2.4]\n",
            " [ 5.7  2.8  4.1  1.3]\n",
            " [ 5.8  2.7  3.9  1.2]\n",
            " [ 5.7  2.6  3.5  1. ]\n",
            " [ 6.4  3.2  5.3  2.3]\n",
            " [ 6.7  3.   5.2  2.3]\n",
            " [ 6.3  2.5  4.9  1.5]\n",
            " [ 6.7  3.   5.   1.7]\n",
            " [ 5.   3.   1.6  0.2]\n",
            " [ 5.5  2.4  3.7  1. ]\n",
            " [ 6.7  3.1  5.6  2.4]\n",
            " [ 5.8  2.7  5.1  1.9]\n",
            " [ 5.1  3.4  1.5  0.2]\n",
            " [ 6.6  2.9  4.6  1.3]\n",
            " [ 5.6  3.   4.1  1.3]\n",
            " [ 5.9  3.2  4.8  1.8]\n",
            " [ 6.3  2.3  4.4  1.3]\n",
            " [ 5.5  3.5  1.3  0.2]\n",
            " [ 5.1  3.7  1.5  0.4]\n",
            " [ 4.9  3.1  1.5  0.1]\n",
            " [ 6.3  2.9  5.6  1.8]\n",
            " [ 5.8  2.7  4.1  1. ]\n",
            " [ 7.7  3.8  6.7  2.2]\n",
            " [ 4.6  3.2  1.4  0.2]]\n",
            "112\n"
          ]
        }
      ],
      "source": [
        "print(\"\\n X TRAIN \\n\", X_train) \n",
        "n_train=X_train.shape[0]\n",
        "print(n_train)"
      ]
    },
    {
      "cell_type": "code",
      "execution_count": null,
      "metadata": {
        "id": "Qx0uk9ED_DRx",
        "outputId": "10c6852a-7835-4a41-a867-dcbf7f872533"
      },
      "outputs": [
        {
          "name": "stdout",
          "output_type": "stream",
          "text": [
            "\n",
            " X TEST \n",
            " [[ 5.8  2.8  5.1  2.4]\n",
            " [ 6.   2.2  4.   1. ]\n",
            " [ 5.5  4.2  1.4  0.2]\n",
            " [ 7.3  2.9  6.3  1.8]\n",
            " [ 5.   3.4  1.5  0.2]\n",
            " [ 6.3  3.3  6.   2.5]\n",
            " [ 5.   3.5  1.3  0.3]\n",
            " [ 6.7  3.1  4.7  1.5]\n",
            " [ 6.8  2.8  4.8  1.4]\n",
            " [ 6.1  2.8  4.   1.3]\n",
            " [ 6.1  2.6  5.6  1.4]\n",
            " [ 6.4  3.2  4.5  1.5]\n",
            " [ 6.1  2.8  4.7  1.2]\n",
            " [ 6.5  2.8  4.6  1.5]\n",
            " [ 6.1  2.9  4.7  1.4]\n",
            " [ 4.9  3.1  1.5  0.1]\n",
            " [ 6.   2.9  4.5  1.5]\n",
            " [ 5.5  2.6  4.4  1.2]\n",
            " [ 4.8  3.   1.4  0.3]\n",
            " [ 5.4  3.9  1.3  0.4]\n",
            " [ 5.6  2.8  4.9  2. ]\n",
            " [ 5.6  3.   4.5  1.5]\n",
            " [ 4.8  3.4  1.9  0.2]\n",
            " [ 4.4  2.9  1.4  0.2]\n",
            " [ 6.2  2.8  4.8  1.8]\n",
            " [ 4.6  3.6  1.   0.2]\n",
            " [ 5.1  3.8  1.9  0.4]\n",
            " [ 6.2  2.9  4.3  1.3]\n",
            " [ 5.   2.3  3.3  1. ]\n",
            " [ 5.   3.4  1.6  0.4]\n",
            " [ 6.4  3.1  5.5  1.8]\n",
            " [ 5.4  3.   4.5  1.5]\n",
            " [ 5.2  3.5  1.5  0.2]\n",
            " [ 6.1  3.   4.9  1.8]\n",
            " [ 6.4  2.8  5.6  2.2]\n",
            " [ 5.2  2.7  3.9  1.4]\n",
            " [ 5.7  3.8  1.7  0.3]\n",
            " [ 6.   2.7  5.1  1.6]]\n",
            "38\n"
          ]
        }
      ],
      "source": [
        "print(\"\\n X TEST \\n\", X_test) \n",
        "n_test=X_test.shape[0]\n",
        "print(n_test)"
      ]
    },
    {
      "cell_type": "code",
      "execution_count": null,
      "metadata": {
        "id": "XNkWzoK4_DRy",
        "outputId": "a44d13ee-66b3-451e-fb68-7b8b04ec8e3c"
      },
      "outputs": [
        {
          "name": "stdout",
          "output_type": "stream",
          "text": [
            "\n",
            " Y TRAIN \n",
            " [1 1 2 0 2 0 0 1 2 2 2 2 1 2 1 1 2 2 2 2 1 2 1 0 2 1 1 1 1 2 0 0 2 1 0 0 1\n",
            " 0 2 1 0 1 2 1 0 2 2 2 2 0 0 2 2 0 2 0 2 2 0 0 2 0 0 0 1 2 2 0 0 0 1 1 0 0\n",
            " 1 0 2 1 2 1 0 2 0 2 0 0 2 0 2 1 1 1 2 2 1 1 0 1 2 2 0 1 1 1 1 0 0 0 2 1 2\n",
            " 0]\n"
          ]
        }
      ],
      "source": [
        "print(\"\\n Y TRAIN \\n\", y_train) "
      ]
    },
    {
      "cell_type": "code",
      "execution_count": null,
      "metadata": {
        "id": "tq5n3hZ7_DRz",
        "outputId": "e05c39d1-34b8-4239-adbf-7dba08ac2f52"
      },
      "outputs": [
        {
          "name": "stdout",
          "output_type": "stream",
          "text": [
            "\n",
            " Y TEST \n",
            " [2 1 0 2 0 2 0 1 1 1 2 1 1 1 1 0 1 1 0 0 2 1 0 0 2 0 0 1 1 0 2 1 0 2 2 1 0\n",
            " 1]\n"
          ]
        }
      ],
      "source": [
        "print(\"\\n Y TEST \\n\", y_test) "
      ]
    },
    {
      "cell_type": "code",
      "execution_count": null,
      "metadata": {
        "id": "mRS9iN74_DR1",
        "outputId": "595a9677-01a5-4bb8-dfcb-d5d4ca9c59d9"
      },
      "outputs": [
        {
          "data": {
            "text/plain": [
              "KNeighborsClassifier(algorithm='auto', leaf_size=30, metric='minkowski',\n",
              "           metric_params=None, n_jobs=1, n_neighbors=3, p=2,\n",
              "           weights='uniform')"
            ]
          },
          "execution_count": 22,
          "metadata": {},
          "output_type": "execute_result"
        }
      ],
      "source": [
        "kn = KNeighborsClassifier(n_neighbors=3) \n",
        "kn.fit(X_train, y_train)"
      ]
    },
    {
      "cell_type": "code",
      "execution_count": null,
      "metadata": {
        "id": "X_xSVTiK_DR3",
        "outputId": "f939b120-6254-4e3d-e996-5dca85ac7cf4"
      },
      "outputs": [
        {
          "name": "stdout",
          "output_type": "stream",
          "text": [
            "\n",
            " XNEW \n",
            " [[ 5.   2.9  1.   0.2]]\n"
          ]
        }
      ],
      "source": [
        "x_new = np.array([[5, 2.9, 1, 0.2]]) \n",
        "print(\"\\n XNEW \\n\",x_new) "
      ]
    },
    {
      "cell_type": "code",
      "execution_count": null,
      "metadata": {
        "collapsed": true,
        "id": "6upMuf1X_DR5"
      },
      "outputs": [],
      "source": [
        "prediction = kn.predict(x_new) "
      ]
    },
    {
      "cell_type": "code",
      "execution_count": null,
      "metadata": {
        "id": "bawSf74j_DR6",
        "outputId": "b2af2d88-cca1-48bf-a46b-262a0c8ddf48"
      },
      "outputs": [
        {
          "name": "stdout",
          "output_type": "stream",
          "text": [
            "\n",
            " Predicted target value: [0]\n",
            "\n"
          ]
        }
      ],
      "source": [
        "print(\"\\n Predicted target value: {}\\n\".format(prediction)) "
      ]
    },
    {
      "cell_type": "code",
      "execution_count": null,
      "metadata": {
        "id": "_QiQqLob_DR7",
        "outputId": "4260a9a9-bcf6-4225-dac2-126c33a03faf"
      },
      "outputs": [
        {
          "name": "stdout",
          "output_type": "stream",
          "text": [
            "\n",
            " Predicted feature name: ['setosa']\n",
            "\n"
          ]
        }
      ],
      "source": [
        "print(\"\\n Predicted feature name: {}\\n\".format (iris_dataset[\"target_names\"][prediction]))"
      ]
    },
    {
      "cell_type": "code",
      "execution_count": null,
      "metadata": {
        "id": "K5cTlJJQ_DR8",
        "outputId": "0260446d-6c22-4311-f02a-68c939f5149d"
      },
      "outputs": [
        {
          "name": "stdout",
          "output_type": "stream",
          "text": [
            "\n",
            " XNEW \n",
            " [[ 6.   2.2  4.   1. ]]\n",
            "\n",
            " Actual : 2 virginica, Predicted :[2]['virginica']\n",
            "\n",
            " Actual : 1 versicolor, Predicted :[1]['versicolor']\n",
            "\n",
            " Actual : 0 setosa, Predicted :[0]['setosa']\n",
            "\n",
            " Actual : 2 virginica, Predicted :[2]['virginica']\n",
            "\n",
            " Actual : 0 setosa, Predicted :[0]['setosa']\n",
            "\n",
            " Actual : 2 virginica, Predicted :[2]['virginica']\n",
            "\n",
            " Actual : 0 setosa, Predicted :[0]['setosa']\n",
            "\n",
            " Actual : 1 versicolor, Predicted :[1]['versicolor']\n",
            "\n",
            " Actual : 1 versicolor, Predicted :[1]['versicolor']\n",
            "\n",
            " Actual : 1 versicolor, Predicted :[1]['versicolor']\n",
            "\n",
            " Actual : 2 virginica, Predicted :[2]['virginica']\n",
            "\n",
            " Actual : 1 versicolor, Predicted :[1]['versicolor']\n",
            "\n",
            " Actual : 1 versicolor, Predicted :[1]['versicolor']\n",
            "\n",
            " Actual : 1 versicolor, Predicted :[1]['versicolor']\n",
            "\n",
            " Actual : 1 versicolor, Predicted :[1]['versicolor']\n",
            "\n",
            " Actual : 0 setosa, Predicted :[0]['setosa']\n",
            "\n",
            " Actual : 1 versicolor, Predicted :[1]['versicolor']\n",
            "\n",
            " Actual : 1 versicolor, Predicted :[1]['versicolor']\n",
            "\n",
            " Actual : 0 setosa, Predicted :[0]['setosa']\n",
            "\n",
            " Actual : 0 setosa, Predicted :[0]['setosa']\n",
            "\n",
            " Actual : 2 virginica, Predicted :[2]['virginica']\n",
            "\n",
            " Actual : 1 versicolor, Predicted :[1]['versicolor']\n",
            "\n",
            " Actual : 0 setosa, Predicted :[0]['setosa']\n",
            "\n",
            " Actual : 0 setosa, Predicted :[0]['setosa']\n",
            "\n",
            " Actual : 2 virginica, Predicted :[2]['virginica']\n",
            "\n",
            " Actual : 0 setosa, Predicted :[0]['setosa']\n",
            "\n",
            " Actual : 0 setosa, Predicted :[0]['setosa']\n",
            "\n",
            " Actual : 1 versicolor, Predicted :[1]['versicolor']\n",
            "\n",
            " Actual : 1 versicolor, Predicted :[1]['versicolor']\n",
            "\n",
            " Actual : 0 setosa, Predicted :[0]['setosa']\n",
            "\n",
            " Actual : 2 virginica, Predicted :[2]['virginica']\n",
            "\n",
            " Actual : 1 versicolor, Predicted :[1]['versicolor']\n",
            "\n",
            " Actual : 0 setosa, Predicted :[0]['setosa']\n",
            "\n",
            " Actual : 2 virginica, Predicted :[2]['virginica']\n",
            "\n",
            " Actual : 2 virginica, Predicted :[2]['virginica']\n",
            "\n",
            " Actual : 1 versicolor, Predicted :[1]['versicolor']\n",
            "\n",
            " Actual : 0 setosa, Predicted :[0]['setosa']\n",
            "\n",
            " Actual : 1 versicolor, Predicted :[2]['virginica']\n"
          ]
        }
      ],
      "source": [
        "i=1 \n",
        "x= X_test[i] \n",
        "x_new = np.array([x]) \n",
        "print(\"\\n XNEW \\n\",x_new) \n",
        "for i in range(len(X_test)): \n",
        "    x = X_test[i] \n",
        "    x_new = np.array([x]) \n",
        "    prediction = kn.predict(x_new) \n",
        "    print(\"\\n Actual : {0} {1}, Predicted :{2}{3}\".format(y_test[i],iris_dataset[\"target_names\"][y_test[i]],prediction,iris_dataset[\"target_names\"][prediction])) \n"
      ]
    },
    {
      "cell_type": "code",
      "execution_count": null,
      "metadata": {
        "id": "V-ny-NVb_DR-",
        "outputId": "32d559f4-f5f5-4e10-8658-80c0cb1e7507"
      },
      "outputs": [
        {
          "name": "stdout",
          "output_type": "stream",
          "text": [
            "\n",
            " TEST SCORE[ACCURACY]: 0.97\n",
            "\n"
          ]
        }
      ],
      "source": [
        "print(\"\\n TEST SCORE[ACCURACY]: {:.2f}\\n\".format(kn.score(X_test, y_test)))"
      ]
    },
    {
      "cell_type": "code",
      "execution_count": null,
      "metadata": {
        "collapsed": true,
        "id": "79mJXw-R_DR_"
      },
      "outputs": [],
      "source": []
    },
    {
      "cell_type": "code",
      "execution_count": null,
      "metadata": {
        "collapsed": true,
        "id": "RoQQpy3z_DR_"
      },
      "outputs": [],
      "source": []
    }
  ],
  "metadata": {
    "kernelspec": {
      "display_name": "Python 3",
      "language": "python",
      "name": "python3"
    },
    "language_info": {
      "codemirror_mode": {
        "name": "ipython",
        "version": 3
      },
      "file_extension": ".py",
      "mimetype": "text/x-python",
      "name": "python",
      "nbconvert_exporter": "python",
      "pygments_lexer": "ipython3",
      "version": "3.6.3"
    },
    "colab": {
      "provenance": []
    }
  },
  "nbformat": 4,
  "nbformat_minor": 0
}